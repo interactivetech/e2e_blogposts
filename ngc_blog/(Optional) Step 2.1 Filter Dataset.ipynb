{
 "cells": [
  {
   "cell_type": "markdown",
   "id": "9e1cc836-4a33-477a-9b54-23b3a228081f",
   "metadata": {},
   "source": [
    "# Filter Train and Validation Dataset"
   ]
  },
  {
   "cell_type": "code",
   "execution_count": 1,
   "id": "c8927134-d852-4f7c-b3f3-bc8996b19c57",
   "metadata": {},
   "outputs": [
    {
     "name": "stderr",
     "output_type": "stream",
     "text": [
      "/opt/conda/lib/python3.8/site-packages/tqdm/auto.py:21: TqdmWarning: IProgress not found. Please update jupyter and ipywidgets. See https://ipywidgets.readthedocs.io/en/stable/user_install.html\n",
      "  from .autonotebook import tqdm as notebook_tqdm\n"
     ]
    }
   ],
   "source": [
    "import json\n",
    "from sahi.utils.coco import Coco, CocoAnnotation, CocoCategory, CocoImage\n",
    "from sahi.utils.file import load_json, save_json\n",
    "from sahi.utils.coco import create_coco_dict\n",
    "import copy\n",
    "import os\n",
    "\n",
    "def update_categories(coco,desired_name2id, update_image_filenames=False):\n",
    "        \"\"\"\n",
    "        Rearranges category mapping of given COCO object based on given desired_name2id.\n",
    "        Can also be used to filter some of the categories.\n",
    "\n",
    "        Args:\n",
    "            desired_name2id: dict\n",
    "                {\"big_vehicle\": 1, \"car\": 2, \"human\": 3}\n",
    "            update_image_filenames: bool\n",
    "                If True, updates coco image file_names with absolute file paths.\n",
    "        \"\"\"\n",
    "        # init vars\n",
    "        currentid2desiredid_mapping = {}\n",
    "        updated_coco = Coco(\n",
    "            name=coco.name,\n",
    "            image_dir=coco.image_dir,\n",
    "            remapping_dict=coco.remapping_dict,\n",
    "            ignore_negative_samples=coco.ignore_negative_samples,\n",
    "        )\n",
    "        # create category id mapping (currentid2desiredid_mapping)\n",
    "        for coco_category in copy.deepcopy(coco.categories):\n",
    "            current_category_id = coco_category.id\n",
    "            current_category_name = coco_category.name\n",
    "            if current_category_name in desired_name2id.keys():\n",
    "                currentid2desiredid_mapping[current_category_id] = desired_name2id[current_category_name]\n",
    "            else:\n",
    "                # ignore categories that are not included in desired_name2id\n",
    "                currentid2desiredid_mapping[current_category_id] = None\n",
    "\n",
    "        # add updated categories\n",
    "        for name in desired_name2id.keys():\n",
    "            updated_coco_category = CocoCategory(id=desired_name2id[name], name=name, supercategory=name)\n",
    "            updated_coco.add_category(updated_coco_category)\n",
    "\n",
    "        # add updated images & annotations\n",
    "        for coco_image in copy.deepcopy(coco.images):\n",
    "            updated_coco_image = CocoImage.from_coco_image_dict(coco_image.json)\n",
    "            # update filename to abspath\n",
    "            file_name_is_abspath = True if os.path.abspath(coco_image.file_name) == coco_image.file_name else False\n",
    "            if update_image_filenames and not file_name_is_abspath:\n",
    "                updated_coco_image.file_name = str(Path(os.path.abspath(self.image_dir)) / coco_image.file_name)\n",
    "            # update annotations\n",
    "            for coco_annotation in coco_image.annotations:\n",
    "                # print(coco_annotation)\n",
    "                current_category_id = coco_annotation.category_id\n",
    "                desired_category_id = currentid2desiredid_mapping[current_category_id]\n",
    "                # append annotations with category id present in desired_name2id\n",
    "                if desired_category_id is not None:\n",
    "                    # update cetegory id\n",
    "                    coco_annotation.category_id = desired_category_id\n",
    "                    # append updated annotation to target coco dict\n",
    "                    updated_coco_image.add_annotation(coco_annotation)\n",
    "            updated_coco.add_image(updated_coco_image)\n",
    "\n",
    "        # overwrite instance\n",
    "        coco.__class__ = updated_coco.__class__\n",
    "        coco.__dict__ = updated_coco.__dict__\n",
    "        \n",
    "## Final filter function\n",
    "def filter_and_save_dataset(coco_json_path,\n",
    "                            desired_name2id=None,\n",
    "                            name_of_new_coco_json=None):\n",
    "    '''\n",
    "    '''\n",
    "    #(Andrew 7.13.2023) Note: coco.update_categories does not check if \n",
    "    print(\"Loading {}...\".format(coco_json_path))\n",
    "    coco = Coco.from_coco_dict_or_path(coco_json_path)\n",
    "    print(\"Done!\")\n",
    "    update_categories(coco,desired_name2id=desired_name2id)\n",
    "    coco.calculate_stats()\n",
    "    cats = coco.json_categories\n",
    "    di = create_coco_dict(coco.images,coco.categories,ignore_negative_samples=True)\n",
    "    di['categories']=coco.json_categories\n",
    "    json.dump(di,open(name_of_new_coco_json,'w'))\n",
    "    print(\"Saving {}...\".format(name_of_new_coco_json))\n",
    "    coco_u = Coco.from_coco_dict_or_path(name_of_new_coco_json)\n",
    "    print(\"Saved!\")\n",
    "    print(\"Coco Stats:\")\n",
    "    print(coco_u.stats)\n",
    "\n",
    "\n",
    "    \n",
    "    "
   ]
  },
  {
   "cell_type": "code",
   "execution_count": null,
   "id": "5aa9cd8e-0757-4145-aa0a-aca914cbba0b",
   "metadata": {},
   "outputs": [],
   "source": [
    "coco_json_path='/run/determined/workdir/shared_fs/01 - Users/andrew.mendez/e2e_blogposts/ngc_blog/xview_dataset/train_images_rgb_no_neg/train_640_02.json'\n",
    "desired_name2id={'Fixed-wing Aircraft':1,'Cargo Plane':2}\n",
    "name_of_new_coco_json = 'xview_dataset/train_images_rgb_no_neg/train_640_02_filtered.json'\n",
    "filter_and_save_dataset(coco_json_path=coco_json_path,\n",
    "                        desired_name2id=desired_name2id,\n",
    "                        name_of_new_coco_json=name_of_new_coco_json)"
   ]
  },
  {
   "cell_type": "code",
   "execution_count": 2,
   "id": "f1eec1d7-4fd7-45ab-b10d-c7282e1f7790",
   "metadata": {},
   "outputs": [
    {
     "name": "stdout",
     "output_type": "stream",
     "text": [
      "Loading /run/determined/workdir/shared_fs/01 - Users/andrew.mendez/e2e_blogposts/ngc_blog/xview_dataset/val_images_rgb_no_neg/val_640_02.json...\n",
      "indexing coco dataset annotations...\n"
     ]
    },
    {
     "name": "stderr",
     "output_type": "stream",
     "text": [
      "Loading coco annotations: 100%|██████████| 4419/4419 [00:14<00:00, 299.21it/s]\n"
     ]
    },
    {
     "name": "stdout",
     "output_type": "stream",
     "text": [
      "Done!\n",
      "Saving xview_dataset/val_images_rgb_no_neg/val_640_02_filtered.json...\n",
      "indexing coco dataset annotations...\n"
     ]
    },
    {
     "name": "stderr",
     "output_type": "stream",
     "text": [
      "Loading coco annotations: 100%|██████████| 185/185 [00:00<00:00, 6106.69it/s]"
     ]
    },
    {
     "name": "stdout",
     "output_type": "stream",
     "text": [
      "Saved!\n",
      "Coco Stats:\n",
      "{'num_images': 185, 'num_annotations': 456, 'num_categories': 2, 'num_negative_images': 0, 'num_images_per_category': {'Cargo Plane': 175, 'Fixed-wing Aircraft': 13}, 'num_annotations_per_category': {'Fixed-wing Aircraft': 61, 'Cargo Plane': 395}, 'min_num_annotations_in_image': 1, 'max_num_annotations_in_image': 19, 'avg_num_annotations_in_image': 2.464864864864865, 'min_annotation_area': 493, 'max_annotation_area': 53460, 'avg_annotation_area': 9073.552631578947, 'min_annotation_area_per_category': {'Fixed-wing Aircraft': 493, 'Cargo Plane': 550}, 'max_annotation_area_per_category': {'Fixed-wing Aircraft': 27354, 'Cargo Plane': 53460}}\n"
     ]
    },
    {
     "name": "stderr",
     "output_type": "stream",
     "text": [
      "\n"
     ]
    }
   ],
   "source": [
    "coco_json_path='/run/determined/workdir/shared_fs/01 - Users/andrew.mendez/e2e_blogposts/ngc_blog/xview_dataset/val_images_rgb_no_neg/val_640_02.json'\n",
    "desired_name2id={'Fixed-wing Aircraft':1,'Cargo Plane':2}\n",
    "name_of_new_coco_json = 'xview_dataset/val_images_rgb_no_neg/val_640_02_filtered.json'\n",
    "filter_and_save_dataset(coco_json_path=coco_json_path,\n",
    "                        desired_name2id=desired_name2id,\n",
    "                        name_of_new_coco_json=name_of_new_coco_json)"
   ]
  },
  {
   "cell_type": "code",
   "execution_count": null,
   "id": "1ca375b5-c5f1-427e-a34e-d96c77edf188",
   "metadata": {},
   "outputs": [],
   "source": []
  }
 ],
 "metadata": {
  "kernelspec": {
   "display_name": "Python 3 (ipykernel)",
   "language": "python",
   "name": "python3"
  },
  "language_info": {
   "codemirror_mode": {
    "name": "ipython",
    "version": 3
   },
   "file_extension": ".py",
   "mimetype": "text/x-python",
   "name": "python",
   "nbconvert_exporter": "python",
   "pygments_lexer": "ipython3",
   "version": "3.8.16"
  }
 },
 "nbformat": 4,
 "nbformat_minor": 5
}
