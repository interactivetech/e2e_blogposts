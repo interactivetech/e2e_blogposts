{
 "cells": [
  {
   "cell_type": "markdown",
   "id": "c1415f68-f89a-4e69-8379-553dbae2e20d",
   "metadata": {},
   "source": [
    "# Part 1 End-to-End Example training object detection model using NVIDIA Pytorch Container from NGC\n",
    "## Installation\n",
    " ----\n",
    "\n",
    "Note this Object Detection demo is based on https://github.com/pytorch/vision/tree/v0.11.3\n",
    "\n",
    "This notebook walks you each step to train a model using containers from the NGC Catalog. We chose the GPU optimized Pytorch container as an example. The basics of working with docker containers apply to all NGC containers.\n",
    "\n",
    "We will show you how to:\n",
    "\n",
    "* Install the Docker Engine on your system\n",
    "* Pull a Pytorch container from the NGC Catalog using Docker\n",
    "* Run the Pytorch container using Docker\n",
    "\n",
    "Let's get started!\n",
    "\n",
    "---\n",
    "\n",
    "### Install the Docker Engine\n",
    "Go to https://docs.docker.com/engine/install/ to install the Docker Engine on your system.\n",
    "\n",
    "\n",
    "### Download the Pytorch container from the NGC Catalog \n",
    "\n",
    "Once the Docker Engine is installed on your machine, visit https://ngc.nvidia.com/catalog/containers and search for the TensorFlow container. Click on the TensorFlow card and copy the pull command.\n",
    "\n",
    "\n",
    "Open the command line of your machine and past the pull command into your command line. Execute the command to download the container. \n",
    "\n",
    "```$ docker pull nvcr.io/nvidia/pytorch:21.11-py3```\n",
    "    \n",
    "The container starts downloading to your computer. A container image consists of many layers; all of them need to be pulled. \n",
    "\n",
    "### Run the Pytorch container image\n",
    "\n",
    "Once the container download is completed, run the following code in your command line to run and start the container:\n",
    "\n",
    "```$ docker run -it --gpus all  -p 8888:8888 -v $PWD:/projects --network=host nvcr.io/nvidia/pytorch:21.11-py3```\n",
    "\n",
    "\n",
    "### Install Jupyter lab and open a notebook\n",
    "\n",
    "Within the container, run the following commands:\n",
    "\n",
    "```pip install torchvision==0.11.3 jupyterlab```\n",
    "\n",
    "```jupyter lab --ip=0.0.0.0 --port=8888 --allow-root```\n",
    "\n",
    "Open up your favorite browser and enter: http://localhost:8888/?token=*yourtoken*.\n",
    "\n",
    "\n",
    "You should see the Jupyter Lab application. Click on the plus icon to launch a new Python 3 noteb\n",
    "ook.\n",
    "\n",
    "Follow along part 2 to complete dataset processing."
   ]
  }
 ],
 "metadata": {
  "kernelspec": {
   "display_name": "Python 3 (ipykernel)",
   "language": "python",
   "name": "python3"
  },
  "language_info": {
   "codemirror_mode": {
    "name": "ipython",
    "version": 3
   },
   "file_extension": ".py",
   "mimetype": "text/x-python",
   "name": "python",
   "nbconvert_exporter": "python",
   "pygments_lexer": "ipython3",
   "version": "3.8.15"
  }
 },
 "nbformat": 4,
 "nbformat_minor": 5
}
