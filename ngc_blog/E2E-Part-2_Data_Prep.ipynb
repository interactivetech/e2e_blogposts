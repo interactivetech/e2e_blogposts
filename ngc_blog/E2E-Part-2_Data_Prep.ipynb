{
 "cells": [
  {
   "cell_type": "markdown",
   "id": "b09d5da7",
   "metadata": {},
   "source": [
    "# Part 2: Data Preparation\n",
    " ----\n",
    "\n",
    "Note this Demo is based on ngc docker image `nvcr.io/nvidia/pytorch:21.11-py3`\n",
    "\n",
    "This notebook walks you each step to train a model using containers from the NGC Catalog. We chose the GPU optimized Pytorch container as an example. The basics of working with docker containers apply to all NGC containers.\n",
    "\n",
    "We will show you how to:\n",
    "\n",
    "* Download the Xview Dataset\n",
    "* How to convert labels to coco format\n",
    "* How to conduct the preprocessing step tiling (i.e. slicing large satellite imagery into chunks )\n",
    "* How to upload to s3 bucket to support distributed training\n",
    "\n",
    "Let's get started!\n",
    "\n",
    "---\n",
    "\n",
    "\n",
    "### Pre-reqs, set up jupyter notebook environment using NGC container \n",
    "\n",
    "# Execute docker run to create NGC environment for Data Prep\n",
    "make sure to map host directory to docker directory, we will use the host directory again to \n",
    "* `docker run   --gpus all --ipc=host --ulimit memlock=-1 --ulimit stack=67108864 -v /home/ubuntu:/home/ubuntu  -p 8008:8888 -it nvcr.io/nvidia/pytorch:21.11-py3  /bin/bash`\n",
    "\n",
    "# Run jupyter notebook command within docker container to access it on your local browser\n",
    "* `cd /home/ubuntu`\n",
    "* `jupyter lab --ip=0.0.0.0 --port=8888 --NotebookApp.token='' --NotebookApp.password=''` \n",
    "* `git clone https://github.com/interactivetech/e2e_blogposts.git`\n",
    "\n"
   ]
  },
  {
   "cell_type": "markdown",
   "id": "48093cbd",
   "metadata": {},
   "source": [
    "### Download the Xview Dataset\n",
    "The dataset we will be using is from the DIUx xView 2018 Challenge https://challenge.xviewdataset.org by U.S. National Geospatial-Intelligence Agency (NGA). You will need to create an account at https://challenge.xviewdataset.org/welcome, agree to the terms and conditions, and download the dataset manually.\n",
    "\n",
    "You can download the dataset at the url https://challenge.xviewdataset.org/data-download\n",
    "\n"
   ]
  },
  {
   "cell_type": "code",
   "execution_count": null,
   "id": "8276118c",
   "metadata": {},
   "outputs": [],
   "source": [
    "# run pip install to get the SAHI library\n",
    "!pip install sahi scikit-image opencv-python-headless==4.5.5.64"
   ]
  },
  {
   "cell_type": "code",
   "execution_count": null,
   "id": "02c9f059",
   "metadata": {},
   "outputs": [],
   "source": [
    "# Example command to download train images with wget command, you will need to update the url as the token is expired\"\n",
    "!wget -O train_images.tgz \\\n",
    "  \"https://d307kc0mrhucc3.cloudfront.net/train_images.tgz"
   ]
  },
  {
   "cell_type": "code",
   "execution_count": null,
   "id": "8a4d1913",
   "metadata": {},
   "outputs": [],
   "source": [
    "# Example command to download train images with wget command, you will need to update the url as the token is expired\"\n",
    "!wget -O train_labels.tgz \\\n",
    "  \"https://d307kc0mrhucc3.cloudfront.net/train_labels.tgz"
   ]
  },
  {
   "cell_type": "code",
   "execution_count": null,
   "id": "32be7f32",
   "metadata": {},
   "outputs": [],
   "source": [
    "# unzip images and labels from /home/ubuntu/e2e_blogposts/ngc_blog\n",
    "!tar -xf train_images.tgz -C xview_dataset/"
   ]
  },
  {
   "cell_type": "code",
   "execution_count": null,
   "id": "edcfb48e",
   "metadata": {},
   "outputs": [],
   "source": [
    "# unzip labels from /home/ubuntu/e2e_blogposts/ngc_blog directory \n",
    "!tar -xf train_labels.tgz -C xview_dataset/"
   ]
  },
  {
   "cell_type": "markdown",
   "id": "73fa0f87",
   "metadata": {},
   "source": [
    "# Convert TIF to RGB"
   ]
  },
  {
   "cell_type": "code",
   "execution_count": null,
   "id": "d6b1d446",
   "metadata": {},
   "outputs": [],
   "source": [
    "# Here loop through all the images and convert them to RGB, this is \n",
    "# important for tiling the images and training with pytorch\n",
    "# will take about an hour to complete\n",
    "!python data_utils/tif_2_rgb.py --input_dir xview_dataset/train_images \\\n",
    "  --out_dir xview_dataset/train_images_rgb/"
   ]
  },
  {
   "cell_type": "markdown",
   "id": "98e04057",
   "metadata": {},
   "source": [
    "# How to convert labels to coco format\n",
    "Here we run a script to convert the dataset labels from .geojson format to COCO format. More details on the COCO format here: \n",
    "\n",
    "The result will be two files (in COCO formal) generated `train.json` and `val.json`"
   ]
  },
  {
   "cell_type": "code",
   "execution_count": null,
   "id": "e8fdacf5",
   "metadata": {},
   "outputs": [],
   "source": [
    "# make sure train_images_dir is pointing to the .tif images\n",
    "!python data_utils/convert_geojson_to_coco.py --train_images_dir xview_dataset/train_images/ \\\n",
    "  --train_images_dir_rgb xview_dataset/train_images_rgb/ \\\n",
    "  --train_geojson_path xview_dataset/xView_train.geojson \\\n",
    "  --output_dir xview_dataset/ \\\n",
    "  --train_split_rate 0.75 \\\n",
    "  --category_id_remapping data_utils/category_id_mapping.json \\\n",
    "  --xview_class_labels data_utils/xview_class_labels.txt\n"
   ]
  },
  {
   "cell_type": "markdown",
   "id": "7756bea5",
   "metadata": {},
   "source": [
    "# Slicing/Tiling the Dataset\n",
    "Here we are using the SAHI library to slice our large satellite images. Satellite images can be up to 50k^2 pixels in size, which wouldnt fit in GPU memory. We alleviate this problem by slicing the image. "
   ]
  },
  {
   "cell_type": "code",
   "execution_count": null,
   "id": "79ae4acb",
   "metadata": {},
   "outputs": [],
   "source": [
    "!python data_utils/slice_coco.py --image_dir xview_dataset/train_images_rgb/ \\\n",
    "  --train_dataset_json_path xview_dataset/train.json \\\n",
    "  --val_dataset_json_path xview_dataset/val.json \\\n",
    "  --slice_size 300 \\\n",
    "  --overlap_ratio 0.2 \\\n",
    "  --ignore_negative_samples True \\\n",
    "  --min_area_ratio 0.1 \\\n",
    "  --output_train_dir xview_dataset/train_images_rgb_no_neg/ \\\n",
    "  --output_val_dir xview_dataset/val_images_rgb_no_neg/"
   ]
  },
  {
   "cell_type": "markdown",
   "id": "672c9460",
   "metadata": {},
   "source": [
    "# Upload to s3 bucket to support distributed training"
   ]
  },
  {
   "cell_type": "markdown",
   "id": "f0333911-190a-4e30-9285-c30638b05eca",
   "metadata": {},
   "source": [
    "We will now upload our exported data to a publically accessible S3 bucket. This will enable for a large scale distributed experiment to have access to the dataset without installing the dataset on device. \n",
    "View these links to learn how to upload your dataset to an S3 bucket. Review the `S3Backend` class in `data.py`\n",
    "* https://docs.determined.ai/latest/training/load-model-data.html#streaming-from-object-storage\n",
    "* https://codingsight.com/upload-files-to-aws-s3-with-the-aws-cli/\n",
    "\n",
    "Once you create an S3 bucket that is publically accessible, here are example commands to upload the preprocessed dataset to S3:\n",
    "* `aws s3 cp --recursive xview_dataset/train_sliced_no_neg/   s3://determined-ai-xview-coco-dataset/train_sliced_no_neg`\n",
    "* `aws s3 cp --recursive xview_dataset/val_sliced_no_neg/   s3://determined-ai-xview-coco-dataset/val_sliced_no_neg`"
   ]
  },
  {
   "cell_type": "code",
   "execution_count": null,
   "id": "c6ee38dc",
   "metadata": {},
   "outputs": [],
   "source": []
  }
 ],
 "metadata": {
  "kernelspec": {
   "display_name": "Python 3 (ipykernel)",
   "language": "python",
   "name": "python3"
  },
  "language_info": {
   "codemirror_mode": {
    "name": "ipython",
    "version": 3
   },
   "file_extension": ".py",
   "mimetype": "text/x-python",
   "name": "python",
   "nbconvert_exporter": "python",
   "pygments_lexer": "ipython3",
   "version": "3.8.15"
  }
 },
 "nbformat": 4,
 "nbformat_minor": 5
}
